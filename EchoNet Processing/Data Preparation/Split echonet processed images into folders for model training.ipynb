{
 "cells": [
  {
   "cell_type": "code",
   "execution_count": 1,
   "id": "027eabf7",
   "metadata": {},
   "outputs": [],
   "source": [
    "# P Naidoo"
   ]
  },
  {
   "cell_type": "code",
   "execution_count": 2,
   "id": "160b88f8",
   "metadata": {},
   "outputs": [],
   "source": [
    "import os\n",
    "import csv\n",
    "import numpy as np\n",
    "import cv2\n",
    "import matplotlib.pyplot as plt\n",
    "import shutil"
   ]
  },
  {
   "cell_type": "code",
   "execution_count": 3,
   "id": "e034760b",
   "metadata": {},
   "outputs": [],
   "source": [
    "path_to_videos = 'c:\\Data\\echonet\\EchoNet-Dynamic\\Videos'\n",
    "echonet_processed_images = 'c:/Learning/Project with Beth/echonet processing/volumetracingsFrames'\n",
    "echonet_processed_binaries = 'c:/Learning/Project with Beth/echonet processing/volumetracingsApproximatedLVBinary'\n",
    "splitCSV = 'c:\\Learning\\Project with Beth\\echonet processing\\echonet_split.csv'\n",
    "\n",
    "output_path = 'echonet frames split for model training'\n",
    "\n",
    "output_path_images = os.path.join(output_path, 'images')\n",
    "output_path_binaries = os.path.join(output_path, 'annotations_binary')\n",
    "\n",
    "output_path_images_train = os.path.join(output_path_images, 'training')\n",
    "output_path_images_test = os.path.join(output_path_images, 'testing')\n",
    "output_path_images_val = os.path.join(output_path_images, 'validation')\n",
    "\n",
    "output_path_binaries_train = os.path.join(output_path_binaries, 'training')\n",
    "output_path_binaries_test = os.path.join(output_path_binaries, 'testing')\n",
    "output_path_binaries_val = os.path.join(output_path_binaries, 'validation')\n",
    "\n",
    "if not os.path.exists(output_path):\n",
    "    os.makedirs(output_path)\n",
    "    \n",
    "if not os.path.exists(output_path_images):\n",
    "    os.makedirs(output_path_images)\n",
    "if not os.path.exists(output_path_binaries):\n",
    "    os.makedirs(output_path_binaries)\n",
    "    \n",
    "if not os.path.exists(output_path_images_train):\n",
    "    os.makedirs(output_path_images_train)\n",
    "if not os.path.exists(output_path_images_test):\n",
    "    os.makedirs(output_path_images_test)\n",
    "if not os.path.exists(output_path_images_val):\n",
    "    os.makedirs(output_path_images_val)\n",
    "    \n",
    "if not os.path.exists(output_path_binaries_train):\n",
    "    os.makedirs(output_path_binaries_train)\n",
    "if not os.path.exists(output_path_binaries_test):\n",
    "    os.makedirs(output_path_binaries_test)\n",
    "if not os.path.exists(output_path_binaries_val):\n",
    "    os.makedirs(output_path_binaries_val)"
   ]
  },
  {
   "cell_type": "code",
   "execution_count": 4,
   "id": "59bb7726",
   "metadata": {},
   "outputs": [],
   "source": [
    "#Read and process csv\n",
    "train_files = []\n",
    "test_files = []\n",
    "val_files = []\n",
    "\n",
    "with open(splitCSV) as csv_file:\n",
    "    csv_reader = csv.reader(csv_file, delimiter=',')\n",
    "    line_count = 0\n",
    "    \n",
    "    for row in csv_reader:\n",
    "        \n",
    "        #line_count = 0 is column names\n",
    "        #row is of type list\n",
    "        \n",
    "        #row[0] is the file name .png\n",
    "        #row[1] is type of split i.e. train, test or val\n",
    "        \n",
    "        line_count += 1\n",
    "        \n",
    "        if(line_count == 1):\n",
    "            continue\n",
    "            \n",
    "        file_name = row[0]\n",
    "        split_type = row[1]\n",
    "        \n",
    "        if (split_type.lower() == 'train'):\n",
    "            train_files.append(file_name)\n",
    "        elif (split_type.lower() == 'test'):\n",
    "            test_files.append(file_name)\n",
    "        else:\n",
    "            val_files.append(file_name)"
   ]
  },
  {
   "cell_type": "code",
   "execution_count": 5,
   "id": "d79a4e7b",
   "metadata": {},
   "outputs": [
    {
     "name": "stdout",
     "output_type": "stream",
     "text": [
      "5377\n",
      "1790\n",
      "1783\n"
     ]
    }
   ],
   "source": [
    "print(len(train_files))\n",
    "print(len(test_files))\n",
    "print(len(val_files))"
   ]
  },
  {
   "cell_type": "code",
   "execution_count": 6,
   "id": "ac95b5fd",
   "metadata": {},
   "outputs": [
    {
     "name": "stdout",
     "output_type": "stream",
     "text": [
      "20048\n"
     ]
    }
   ],
   "source": [
    "#Read directory and store in datastructures for quick access\n",
    "dir_files = os.listdir(echonet_processed_images)\n",
    "print(len(dir_files))\n",
    "\n",
    "images_dict = {}\n",
    "\n",
    "files_that_do_not_exist = []\n",
    "for file in dir_files:\n",
    "    names = file.split('_')\n",
    "    filename = names[0].replace('.avi', '')\n",
    "    \n",
    "    ed_es_pair = []\n",
    "    if (filename not in images_dict):\n",
    "        images_dict[filename] = ed_es_pair\n",
    "    else:\n",
    "        ed_es_pair = images_dict[filename]\n",
    "    \n",
    "    ed_es_pair.append(file)    \n",
    "    "
   ]
  },
  {
   "cell_type": "code",
   "execution_count": 7,
   "id": "171b168c",
   "metadata": {},
   "outputs": [
    {
     "name": "stdout",
     "output_type": "stream",
     "text": [
      "complete\n"
     ]
    }
   ],
   "source": [
    "#Copy images files to correct locations to be used for model training:\n",
    "\n",
    "for file in train_files:\n",
    "    \n",
    "    if(not file in images_dict):\n",
    "        continue\n",
    "        \n",
    "    ed_es_pair = images_dict[file]\n",
    "    \n",
    "    for image_file_name in ed_es_pair:\n",
    "        from_path1 = os.path.join(echonet_processed_images, image_file_name)\n",
    "        from_path2 = os.path.join(echonet_processed_binaries, image_file_name)\n",
    "        to_path1 = output_path_images_train\n",
    "        to_path2 = output_path_binaries_train\n",
    "        \n",
    "        shutil.copy(from_path1, to_path1)\n",
    "        shutil.copy(from_path2, to_path2)\n",
    "        \n",
    "for file in test_files:\n",
    "    \n",
    "    if(not file in images_dict):\n",
    "        continue\n",
    "        \n",
    "    ed_es_pair = images_dict[file]\n",
    "    \n",
    "    for image_file_name in ed_es_pair:\n",
    "        from_path1 = os.path.join(echonet_processed_images, image_file_name)\n",
    "        from_path2 = os.path.join(echonet_processed_binaries, image_file_name)\n",
    "        to_path1 = output_path_images_test\n",
    "        to_path2 = output_path_binaries_test\n",
    "        \n",
    "        shutil.copy(from_path1, to_path1)\n",
    "        shutil.copy(from_path2, to_path2)\n",
    "        \n",
    "for file in val_files:\n",
    "    \n",
    "    if(not file in images_dict):\n",
    "        continue\n",
    "        \n",
    "    ed_es_pair = images_dict[file]\n",
    "    \n",
    "    for image_file_name in ed_es_pair:\n",
    "        from_path1 = os.path.join(echonet_processed_images, image_file_name)\n",
    "        from_path2 = os.path.join(echonet_processed_binaries, image_file_name)\n",
    "        to_path1 = output_path_images_val\n",
    "        to_path2 = output_path_binaries_val\n",
    "        \n",
    "        shutil.copy(from_path1, to_path1)\n",
    "        shutil.copy(from_path2, to_path2)\n",
    "\n",
    "print('complete')"
   ]
  },
  {
   "cell_type": "code",
   "execution_count": null,
   "id": "d59a26aa",
   "metadata": {},
   "outputs": [],
   "source": []
  }
 ],
 "metadata": {
  "kernelspec": {
   "display_name": "Python 3",
   "language": "python",
   "name": "python3"
  },
  "language_info": {
   "codemirror_mode": {
    "name": "ipython",
    "version": 3
   },
   "file_extension": ".py",
   "mimetype": "text/x-python",
   "name": "python",
   "nbconvert_exporter": "python",
   "pygments_lexer": "ipython3",
   "version": "3.8.8"
  }
 },
 "nbformat": 4,
 "nbformat_minor": 5
}
