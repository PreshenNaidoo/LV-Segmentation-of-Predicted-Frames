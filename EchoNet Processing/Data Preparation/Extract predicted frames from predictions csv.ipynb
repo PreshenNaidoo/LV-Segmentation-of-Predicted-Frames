{
 "cells": [
  {
   "cell_type": "code",
   "execution_count": 1,
   "id": "45a334dd",
   "metadata": {},
   "outputs": [],
   "source": [
    "# P Naidoo"
   ]
  },
  {
   "cell_type": "code",
   "execution_count": 2,
   "id": "b1ccf1e4",
   "metadata": {},
   "outputs": [],
   "source": [
    "import os\n",
    "import csv\n",
    "import numpy as np\n",
    "import cv2\n",
    "import matplotlib.pyplot as plt"
   ]
  },
  {
   "cell_type": "code",
   "execution_count": 3,
   "id": "03b14b55",
   "metadata": {},
   "outputs": [],
   "source": [
    "path_to_videos = 'c:\\Data\\echonet\\EchoNet-Dynamic\\Videos'\n",
    "predictedFramesForEDandESCSV = 'C:\\Learning\\Project with Beth\\echonet processing\\prediction_data.csv'\n",
    "outputPredictedFramesPath = 'predictedFramesForEDandES'\n",
    "\n",
    "if not os.path.exists(outputPredictedFramesPath):\n",
    "    os.makedirs(outputPredictedFramesPath)"
   ]
  },
  {
   "cell_type": "code",
   "execution_count": 4,
   "id": "05346dad",
   "metadata": {},
   "outputs": [],
   "source": [
    "files_that_do_not_exist = []\n",
    "\n",
    "with open(predictedFramesForEDandESCSV) as csv_file:\n",
    "    csv_reader = csv.reader(csv_file, delimiter=',')\n",
    "    line_count = 0\n",
    "    \n",
    "    for row in csv_reader:\n",
    "        #line_count = 0 is column names\n",
    "        #row is of type list\n",
    "        \n",
    "        #row[0] is the file name .png\n",
    "        #row[1] is ED GT Frame\n",
    "        #row[2] is ED Predicted Frame\n",
    "        #row[3] is ED_abs_diff\n",
    "        #row[4] is ED_diff\n",
    "        #row[5] is ES GT Frame\n",
    "        #row[6] is ES Predicted Frame\n",
    "        #row[7] is ES_abs_diff\n",
    "        #row[8] is ES_diff\n",
    "        #print(line_count)\n",
    "        \n",
    "        line_count += 1\n",
    "        \n",
    "        if(line_count == 1):\n",
    "            continue           \n",
    "        \n",
    "        file_name = row[0]\n",
    "        ED_pred_frame = int(row[2]) -1   #convert to zero based index.\n",
    "        ES_pred_frame = int(row[6]) -1       \n",
    "        \n",
    "        \n",
    "        videopath = os.path.join(path_to_videos, file_name+'.avi')  \n",
    "        \n",
    "        if (not os.path.exists(videopath)):\n",
    "            print(file_name)\n",
    "            files_that_do_not_exist.append(file_name)\n",
    "            continue\n",
    "            \n",
    "        cap = cv2.VideoCapture(videopath)\n",
    "        \n",
    "        cap.set(cv2.CAP_PROP_POS_FRAMES, ED_pred_frame)        \n",
    "        success, frame = cap.read()  \n",
    "        output_name = file_name + f'_{ED_pred_frame}' + f'_ED' + '.png'\n",
    "        output_image = os.path.join(outputPredictedFramesPath, output_name)\n",
    "        cv2.imwrite(output_image, frame)\n",
    "        \n",
    "        cap.set(cv2.CAP_PROP_POS_FRAMES, ES_pred_frame)        \n",
    "        success, frame = cap.read()  \n",
    "        output_name = file_name + f'_{ES_pred_frame}' + f'_ES' + '.png'\n",
    "        output_image = os.path.join(outputPredictedFramesPath, output_name)\n",
    "        cv2.imwrite(output_image, frame)\n",
    "        \n",
    "        cap.release()"
   ]
  },
  {
   "cell_type": "code",
   "execution_count": null,
   "id": "5aa281da",
   "metadata": {},
   "outputs": [],
   "source": []
  }
 ],
 "metadata": {
  "kernelspec": {
   "display_name": "Python 3",
   "language": "python",
   "name": "python3"
  },
  "language_info": {
   "codemirror_mode": {
    "name": "ipython",
    "version": 3
   },
   "file_extension": ".py",
   "mimetype": "text/x-python",
   "name": "python",
   "nbconvert_exporter": "python",
   "pygments_lexer": "ipython3",
   "version": "3.8.8"
  }
 },
 "nbformat": 4,
 "nbformat_minor": 5
}
